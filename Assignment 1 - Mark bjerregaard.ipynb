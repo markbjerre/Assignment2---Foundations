{
 "cells": [
  {
   "cell_type": "markdown",
   "metadata": {},
   "source": [
    "## Foundations Assignment 1 - Due 20.09.2021 <br>\n",
    "## Mark Bjerregaard - Mabj16ac@student.cbs.dk"
   ]
  },
  {
   "cell_type": "markdown",
   "metadata": {},
   "source": [
    "## Question 1.a <br> \n",
    "### Write a for loop to compute the sum of all numbers below 1000 that are a multiple of either 3 or 5."
   ]
  },
  {
   "cell_type": "code",
   "execution_count": 16,
   "metadata": {},
   "outputs": [
    {
     "name": "stdout",
     "output_type": "stream",
     "text": [
      "Sum of numbers, solution 1: 233168\n",
      "Sum of numbers, solution 2: 233168\n"
     ]
    }
   ],
   "source": [
    "\"\"\"\n",
    "To solve the above problem i'll use:\n",
    "- range from 0 - 999 \n",
    "- for loop iterating over our range \n",
    "- if test evaluating wether modulo of 3 or 5 in each itteration is 0 \n",
    "\n",
    "I've provided 2 solutions both producing similar outcome below using the above tools\n",
    "\"\"\"\n",
    "\n",
    "\"\"\"\"\n",
    "Solution 1: \n",
    "\"\"\"\n",
    "#summerises - i - as for loop iterates over range and fullfills if statement\n",
    "sumtotal1 = 0\n",
    "\n",
    "#generate range 0-999 and iterate over all numbers\n",
    "for i in range(0,1000):\n",
    "    #test if modulo of 3 or 5 are 0\n",
    "    if i % 3 == 0 or i % 5 == 0:\n",
    "        #add value of i (current iterable) to sumtotal if - if - test returns True\n",
    "        sumtotal1 += i\n",
    "\n",
    "print(\"Sum of numbers, solution 1:\",sumtotal1)\n",
    "\n",
    "\"\"\"\n",
    "Solution 2: \n",
    "\"\"\"\n",
    "#generate list based on similar range, for loop and if test as solution 1. sum function adds all elements of the list\n",
    "sumtotal2 = sum([i for i in range(0,1000) if i % 3 == 0 or i % 5 == 0])\n",
    "\n",
    "print(\"Sum of numbers, solution 2:\",sumtotal2)"
   ]
  },
  {
   "cell_type": "markdown",
   "metadata": {},
   "source": [
    "## Question 1.b <br>\n",
    "### Write a while loop to compute the sum of all numbers below 1000 that are multiple of either 3 or 5"
   ]
  },
  {
   "cell_type": "code",
   "execution_count": 22,
   "metadata": {},
   "outputs": [
    {
     "name": "stdout",
     "output_type": "stream",
     "text": [
      "233168\n"
     ]
    }
   ],
   "source": [
    "\"\"\"\n",
    "To solve 1.b, i'll use a variable - counter - that increases in an increment of 1 untill it reaches 1000, and test this similarly to - i - in 1.a\n",
    "We also use same if statement and sumtotal as in the previous solution\n",
    "\"\"\"\n",
    "#sums values of counter that pass the if statement in the while loop\n",
    "sumtotal1 = 0\n",
    "#counter variable increases by increment 1 after each iteration in while loop\n",
    "counter = 0\n",
    "\n",
    "#while loop iterates untill variable - counter - is equal to 1000\n",
    "while counter != 1000:\n",
    "    #test if modulo of 3 or 5 are 0\n",
    "    if counter % 3 == 0 or counter % 5 == 0:\n",
    "        #add value of counter to sumtotal variable\n",
    "        sumtotal1 += counter\n",
    "    #increase counter with 1 after each iteration\n",
    "    counter += 1\n",
    "\n",
    "#prints value of sumtotal\n",
    "print(sumtotal1)"
   ]
  },
  {
   "cell_type": "markdown",
   "metadata": {},
   "source": [
    "## Question 2 <br>\n",
    "### Write python code to compute the largest product of 4 consecutive numbers from a 100-digit number given below."
   ]
  },
  {
   "cell_type": "code",
   "execution_count": 78,
   "metadata": {},
   "outputs": [
    {
     "name": "stdout",
     "output_type": "stream",
     "text": [
      "Consecutive numbers: 7316 New maxproduct: 126\n",
      "Consecutive numbers: 6717 New maxproduct: 294\n",
      "Consecutive numbers: 7653 New maxproduct: 630\n",
      "Consecutive numbers: 9674 New maxproduct: 1512\n",
      "Consecutive numbers: 4969 New maxproduct: 1944\n",
      "Consecutive numbers: 9698 New maxproduct: 3888\n",
      "Largest product of 4 consecutive numbers is: 3888 , from numbers 9698\n"
     ]
    }
   ],
   "source": [
    "\n",
    "\"\"\"\n",
    "To solve this problem, i'll use a for loop to cycle through the string of numbers, starting from index[3], the first \\\n",
    "index where we can form four consecutive numbers\n",
    "\n",
    "Using index reference variable - indexref - i'm creating a string of four numbers from my 100-number string, starting \\\n",
    "from index n to index n + 4. I test the product of the individual numbers in the string and if it is bigger than a    \\\n",
    "previously encountered product, this is stored along with the four original consecutive numbers \n",
    "\n",
    "\"\"\"\n",
    "hundred_digit_str = \"7316717653133062491922511967442657474235534919493496983520312774506326239578318016984801869478851843\"\n",
    "\n",
    "#stores index refference \n",
    "indexref = 0\n",
    "#stores maximum product\n",
    "maxproduct = 0\n",
    "#stores four consecutive numbers that form maximum product\n",
    "maxnum = 0\n",
    "\n",
    "#creates a for loop that iterates over string 100 minus 3 times (maximum combinations of consecutive numbers)\n",
    "for i in hundred_digit_str[ 4 : len( hundred_digit_str ) + 1 ]:\n",
    "    \n",
    "    #forms string consisting of 4 consecutive numbers\n",
    "    num = hundred_digit_str [ indexref : indexref + 4 ]\n",
    "    #calculates product of 4 consecutive numbers in the - num - string\n",
    "    numproduct = int(num[0]) * int(num[1]) * int(num[2]) * int(num[3])\n",
    "    \n",
    "    #if statement controls whether current iterations numproduct is higher than the maximum previously recorded\n",
    "    if numproduct > maxproduct:\n",
    "        #maxproduct and maxnum stores largest product and value of four consecutive numbers\n",
    "        maxproduct = numproduct\n",
    "        maxnum = num\n",
    "        #print informs when a new maximum product has been discovered\n",
    "        print(\"Consecutive numbers:\",num,\"New maxproduct:\", maxproduct)\n",
    "    #index refference increases with one after each iteration to cycle through all consecutive numbers\n",
    "    indexref += 1\n",
    "\n",
    "print(\"Largest product of 4 consecutive numbers is:\",maxproduct,\", from numbers\", maxnum)\n"
   ]
  },
  {
   "cell_type": "markdown",
   "metadata": {},
   "source": [
    "## Question 3 <br>\n",
    "### For any given list of numbers (say list_01), write python code using list comprehension to separate the list into two sub-lists containing even and odd numbers respectively"
   ]
  },
  {
   "cell_type": "code",
   "execution_count": 87,
   "metadata": {},
   "outputs": [
    {
     "name": "stdout",
     "output_type": "stream",
     "text": [
      "Odd list: [1, 3, 5, 7, 9] | even list: [0, 2, 4, 6, 8]\n"
     ]
    }
   ],
   "source": [
    "\"\"\"\n",
    "To solve this problem i use list comprehension to create lists odd_list and even_list seperately\n",
    "\n",
    "- i for i in list1 - passes the value of the current number being itterated in the list to the new \\\n",
    "list that is being generated if the following - if - statement is true\n",
    "\"\"\"\n",
    "#control list\n",
    "list1 = [0,1,2,3,4,5,6,7,8,9]\n",
    "\n",
    "#add number i from list1 if modulo of 2 is not 0 (odd)\n",
    "odd_list = [i for i in list1 if i % 2 != 0]\n",
    "#add number i from list1 if modulo of 2 is 0 (even)\n",
    "even_list = [i for i in list1 if i% 2 == 0]\n",
    "\n",
    "print(\"Odd list:\",odd_list,\"| even list:\",even_list)"
   ]
  },
  {
   "cell_type": "markdown",
   "metadata": {},
   "source": [
    "## Question 4 <br>\n",
    "### Write a recursive function that will reverses the given String. \n",
    "For example, if your function is given “copenhagen” as an input parameter then the function should return “negahnepoc”."
   ]
  },
  {
   "cell_type": "code",
   "execution_count": 16,
   "metadata": {},
   "outputs": [
    {
     "name": "stdout",
     "output_type": "stream",
     "text": [
      "negahnepoc\n"
     ]
    }
   ],
   "source": [
    "\"\"\"\n",
    "To reverse the given string, i first check for my base case - string is \"\" -\n",
    "\n",
    "if this is not true, i call the function again, removing index [0] from the string and returning the current [0] index of string\n",
    "\n",
    "When the function reaches its base case (string is empty), it returns the last string[0] value, ie. the last letter of the string \\\n",
    "then the second last string[0] value and so on\n",
    "\"\"\"\n",
    "#control\n",
    "word = \"copenhagen\"\n",
    "#function definition, taking - string - as a variable\n",
    "def string_reverse(string):\n",
    "    #checking for basecase (string is empty)\n",
    "    if string == \"\":\n",
    "        #return string - ie nothing\n",
    "        return string\n",
    "    #if not base case\n",
    "    else:\n",
    "        #return call function again, removing first letter of string but returning this when functions cascade back up  \n",
    "        return string_reverse(string[1:]) + string[0]\n",
    "\n",
    "#call function\n",
    "print(string_reverse(word))\n",
    "    "
   ]
  },
  {
   "cell_type": "markdown",
   "metadata": {},
   "source": [
    "## Question 5.A <br>\n",
    "### Given a word and a string of characters, find how many times over you can construct that word from the string of characters. "
   ]
  },
  {
   "cell_type": "code",
   "execution_count": 153,
   "metadata": {},
   "outputs": [
    {
     "name": "stdout",
     "output_type": "stream",
     "text": [
      "{'c': 1, 'a': 1, 't': 1}\n",
      "The given word: cat can be formed 8 times from the string\n"
     ]
    }
   ],
   "source": [
    "\"\"\"\n",
    "To solve this problem, I iterate (using for loop) over the given word to count all letters \\\n",
    "and assign the count to the corresponding letter in a dictionary\n",
    "\n",
    "For each letter i divide it with its number of occurences in the string, as the least repeated letter \\\n",
    "will be the delimiter in this problem. I return the delimiter as an int as we'll need an even match to form the word \\\n",
    "i.e. if the delimeter has 2 occurences in word and 3 in string, we can still only form the word once\n",
    "\n",
    "Note1: I do not iterrate over string as we only care about letters in given word\n",
    "Note2: I do not care about repeated letters word when forming dictionary as the valued stored will be the same at the letters key\n",
    "\n",
    "\"\"\"\n",
    "word = \"cat\"\n",
    "string = \"ccgatcahctatttaaaaccctatcatastadfa\"\n",
    "\n",
    "#Dictionary to track letter occurences in word\n",
    "letter_dict = {}\n",
    "#variable to store least occuring letter in string over occurences in word (1000 is an arbitrary number)\n",
    "min_count = 1000\n",
    "\n",
    "#for loop to iterate over letters in word\n",
    "for i in word:\n",
    "    #add dictionary entry for itterated letter \n",
    "    letter_dict[i] = word.count(i)\n",
    "    #count number of times letter occurs in string over number of times it occurs in word (using dictionary entry)\n",
    "    count = int(string.count(i) / letter_dict[i])\n",
    "    #if count is smaller than lowest recorded count so far, replace min_count with count\n",
    "    if count < min_count:\n",
    "        min_count = count\n",
    "\n",
    "#control to ensure dictionary is correct\n",
    "print(letter_dict)\n",
    "\n",
    "print(\"The given word:\",word, \"can be formed\",min_count,\"times from the string\")"
   ]
  },
  {
   "cell_type": "markdown",
   "metadata": {},
   "source": [
    "## Question 5.B <br> \n",
    "### Create a function that takes 2 arguments: a word and a string of characters and it should return how many times over the word can be created using the letters from string of characters (each letter can only be used 1 time)."
   ]
  },
  {
   "cell_type": "code",
   "execution_count": 176,
   "metadata": {},
   "outputs": [
    {
     "name": "stdout",
     "output_type": "stream",
     "text": [
      "{'h': 1, 'e': 1, 'l': 2, 'o': 1}\n",
      "Test1: 3.0\n",
      "{'a': 1, 's': 2, 'i': 1, 'g': 1, 'n': 2, 'm': 1, 'e': 1, 't': 1}\n",
      "Test2: 6.0\n"
     ]
    }
   ],
   "source": [
    "\"\"\"\n",
    "To solve this problem i simply convert my code from previous question to a function\n",
    "I specify the function needs two variables passed - word , string - and repeat the code from before\n",
    "\"\"\"\n",
    "#defining function\n",
    "def word_in_string(word,string):\n",
    "    \n",
    "    letter_dict = {}\n",
    "    \n",
    "    min_count = 1000\n",
    "    \n",
    "    for i in word:\n",
    "        \n",
    "        letter_dict[i] = word.count(i)\n",
    "        \n",
    "        count = int(string.count(i) / letter_dict[i])\n",
    "        \n",
    "        if count < min_count:\n",
    "            min_count = count\n",
    "    #Control for dictionary\n",
    "    print(letter_dict)\n",
    "    #Return lowest denominator\n",
    "    return min_count\n",
    "\n",
    "#test 1: known amount of words in string\n",
    "test_str1 = \"hellohellohello\"\n",
    "test_word1 = \"hello\"\n",
    "\n",
    "print(\"Test1:\",word_in_string(test_word1,test_str1))\n",
    "\n",
    "#test 2: passing long string\n",
    "test_str2 = \"This question is nothing but a generalization of the problem above. Create a function that takes 2 \\\n",
    "arguments: a word and a string of characters and it should return how many times over the word \\\n",
    "can be created using the letters from string of characters (each letter can only be used 1 time). \\\n",
    "Provide one test case to check your function works as intended (that is, give a word and a string \\\n",
    "of your choosing and test your function).\"\n",
    "\n",
    "#adjusting for uppercase letters\n",
    "test_str2 = test_str2.casefold()\n",
    "\n",
    "test_word2 = \"assignment\"\n",
    "\n",
    "print(\"Test2:\",word_in_string(test_word2,test_str2))\n",
    "        "
   ]
  },
  {
   "cell_type": "markdown",
   "metadata": {},
   "source": [
    "## Question 6\n",
    "### Write a python function that takes two strings as input and returns a tuple containing the extracted segments of characters and numbers as indicated above duly appending the segments with separator as indicated above."
   ]
  },
  {
   "cell_type": "code",
   "execution_count": 15,
   "metadata": {},
   "outputs": [
    {
     "name": "stdout",
     "output_type": "stream",
     "text": [
      "('CopenhagenhostedCop_summitatBellaCentrein_whichwasattendedbydelegatesfrommorethan_countries', '09_2009_100')\n"
     ]
    }
   ],
   "source": [
    "\"\"\"\n",
    "To solve this problem, i first split the sentence string to form a list containing all its words.\n",
    "\n",
    "I then use list comprehension to form a list of all numerical values in the string (later converting this to string using .join), \n",
    "and use this number list as a reference for replacing these numbers in our word lists with the seperator using a - for loop - \n",
    "\n",
    "Finally i convert the word list to a string, again using .join and return the word and number strings in a tuple\n",
    "\n",
    "NOTE: A limitation of this function is that it won't replace non numerical or alphabetical symbols other than \",\" and \"-\". \\\n",
    "Another limitation is that the function won't recognize numericals not seperated to alphabetics with \" \", fx \"hell0world\"\n",
    "\"\"\"\n",
    "\n",
    "\n",
    "string1 = \"Copenhagen hosted Cop-09 summit at Bella Centre in 2009, which was attended by delegates from more than 100 countries\"\n",
    "\n",
    "separator = \"_\"\n",
    "\n",
    "#Defining function\n",
    "def string_num_split(string,separator):\n",
    "    \n",
    "    #Replacing non alphabet or non numerical characters, splitting string to list divided by space\n",
    "    temp_list = string.replace(\"-\",\" \").replace(\",\",\" \").split()\n",
    "    \n",
    "    #generating list containing all numericals in string\n",
    "    num_vals = [i for i in temp_list if i.isnumeric()]\n",
    "    \n",
    "    #creating string of numericals with seperators\n",
    "    number_str = separator.join(num_vals)\n",
    "    \n",
    "    #replacing numericals in string list with seperator  \n",
    "    for x in num_vals:\n",
    "        temp_list[temp_list.index(x)] = separator\n",
    "        \n",
    "    #Creating string based on temp_list using join\n",
    "    new_str = \"\"\n",
    "    new_str = new_str.join(temp_list)\n",
    "    \n",
    "    #returning string and numericals with seperators in tuble\n",
    "    return (new_str, number_str)\n",
    "    \n",
    "    \n",
    "print(string_num_split(string1,separator))\n"
   ]
  },
  {
   "cell_type": "code",
   "execution_count": null,
   "metadata": {},
   "outputs": [],
   "source": []
  }
 ],
 "metadata": {
  "kernelspec": {
   "display_name": "Python 3",
   "language": "python",
   "name": "python3"
  },
  "language_info": {
   "codemirror_mode": {
    "name": "ipython",
    "version": 3
   },
   "file_extension": ".py",
   "mimetype": "text/x-python",
   "name": "python",
   "nbconvert_exporter": "python",
   "pygments_lexer": "ipython3",
   "version": "3.7.4"
  }
 },
 "nbformat": 4,
 "nbformat_minor": 2
}
