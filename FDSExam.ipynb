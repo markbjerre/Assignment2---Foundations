{
 "cells": [
  {
   "cell_type": "markdown",
   "metadata": {},
   "source": [
    "<h1><center> Final Exam for Foundations of Data Science </center></h1>\n",
    "\n",
    "<center> <h2>Student IDs:</h2> asho16ac, nifu18ac, mabj16ac</center>\n",
    "\n",
    "<center> Due Date: Dec 20th 2021 </center>\n",
    "\n",
    "---\n"
   ]
  },
  {
   "cell_type": "markdown",
   "metadata": {},
   "source": [
    "The following code constitues our answer to the exam assignment for Foundations of Data Science 2021. \n",
    "We answers to the questions will apear in the following order: \n",
    "<ol>\n",
    "<li>Question 1: Snumpy</li>\n",
    "<li>Question 2 Hamming's Code</li>\n",
    "<li>Question 3: Text Document Similarity</li>\n",
    "</ol>\n",
    "\n",
    "Test suites are found after each respective implementation.\n",
    "\n",
    "In the code base, please note that we have made the following additions/alterations to the posed assignment, where we deemed it fit/interesting: \n",
    "\n",
    "<ol>\n",
    "<li> <b> Addition 1:</b> arrange method added to snumpy </li>\n",
    "<li> <b> Addition 2:</b> Possibility of reshaping matrix in reshape method added to Snumpy </li>\n",
    "<li> <b> Addition/alteration 3: </b> </li>\n",
    "<li> <b> Addition/alteration 4: </b> </li>\n",
    "</ol>\n",
    "\n",
    "---"
   ]
  },
  {
   "cell_type": "markdown",
   "metadata": {},
   "source": [
    "# Question 1: Snumpy"
   ]
  },
  {
   "cell_type": "code",
   "execution_count": 1,
   "metadata": {},
   "outputs": [],
   "source": [
    "class Snumpy (object):\n",
    "    \n",
    "    def Ones (self, X):\n",
    "        #input must be an int\n",
    "        if isinstance(X,int):\n",
    "            arr = []\n",
    "            for i in range(X):\n",
    "                arr.append(1)\n",
    "            return arr\n",
    "        else: \n",
    "            raise TypeError('Input is not an int. Try again.')\n",
    "    \n",
    "    #########################################################\n",
    "    def zeros (self, X):\n",
    "        #input must be an int\n",
    "        if isinstance(X,int):\n",
    "            arr = []\n",
    "            for i in range(X):\n",
    "                arr.append(0)\n",
    "            return arr\n",
    "        else: \n",
    "            raise TypeError('Input is not an int. Try again.')\n",
    "    \n",
    "    \n",
    "    #########################################################\n",
    "    def arrange(self, X):\n",
    "        #input must be an int\n",
    "        if isinstance(X,int):\n",
    "            arr = []\n",
    "            for n in range(X):\n",
    "                arr.append(n)\n",
    "            return arr\n",
    "        else: \n",
    "            raise TypeError('Input is not an int. Try again.')\n",
    "    \n",
    "    #########################################################\n",
    "    def reshape(self, X, shape):\n",
    "        \n",
    "        rows = shape[0]\n",
    "        columns = shape[1]\n",
    "        \n",
    "        #If X is a matrix  \n",
    "        if self.is_matrix(X) == True: \n",
    "            if (rows or columns) < 0:\n",
    "                raise ValueError('Input for shape must be positive. Try again!')\n",
    "            elif rows * columns != sum([len(i) for i in X]):\n",
    "                raise ValueError('Input for shape must be equal to length of array. Try again!')   \n",
    "            else:\n",
    "                pass \n",
    "            \n",
    "            ret_array = []\n",
    "            work_array = []\n",
    "            elements = 0\n",
    "            \n",
    "            if len(X) == 1: \n",
    "                elements = len(X[0])\n",
    "                work_array = X[0]\n",
    "            else: \n",
    "                for i in range(len(X)):\n",
    "                    elements += len(X[i])\n",
    "                    for j in range(len(X[i])):\n",
    "                        work_array.append(X[i][j])\n",
    "            \n",
    "            #Condition to check for compatible shapes \n",
    "            if ((rows*columns)%elements==0):\n",
    "                while len(work_array) > 0:\n",
    "                    row_array = []\n",
    "                    for j in range(columns):\n",
    "                        row_array.append(work_array[j]) \n",
    "                    work_array = work_array[columns:]\n",
    "                    ret_array.append(row_array)\n",
    "                return ret_array    \n",
    "            else:\n",
    "                raise ValueError(\"Cannot reshape array into that shape\")\n",
    "        \n",
    "        #If X is a list  \n",
    "        elif self.is_list(X) == True:\n",
    "            pass\n",
    "        else:\n",
    "            raise ValueError('Input for \"X\" must be list or array!')\n",
    "        \n",
    "        if rows | columns < 0:\n",
    "            raise ValueError('Input for shape must be positive. Try again!')\n",
    "        elif rows * columns != len(X):\n",
    "            raise ValueError('Input for shape must be equal to length of array. Try again!')            \n",
    "        else:\n",
    "            array = []\n",
    "            for i in range(rows):\n",
    "                row = []\n",
    "                for y in range(columns):\n",
    "                    row.append(X[columns*i + y]) \n",
    "                array.append(row)\n",
    "            return array\n",
    "\n",
    "        \n",
    "    #########################################################\n",
    "    def shape (self, array):\n",
    "        #Condition to check if shape is list or matrix\n",
    "        if self.is_list(array) == False | self.is_matrix(array) == False :\n",
    "            raise ValueError('Input not a list or array')\n",
    "        else: \n",
    "            # if array is a list:\n",
    "            if self.is_list(array) == True: \n",
    "                shape = (1,len(array))\n",
    "                return shape\n",
    "            # if array is matrix: \n",
    "            else:\n",
    "                rows = len(array)\n",
    "                columns = 0\n",
    "                for i in array:\n",
    "                    columns += len(i)\n",
    "                columns = int(columns / rows)\n",
    "                shape = (rows, columns)\n",
    "                return shape\n",
    "    \n",
    "    #########################################################\n",
    "    #Helper method to check if input is list but not matrix\n",
    "    def is_list (self, array): \n",
    "        if ((isinstance(array,list)) and (not isinstance(array[0],list))):\n",
    "            return True \n",
    "        else: \n",
    "            return False\n",
    "        \n",
    "    #########################################################\n",
    "    #Helper method to check if input is matrix but not list\n",
    "    def is_matrix (self, array): \n",
    "        if ((isinstance(array,list)) and (isinstance(array[0],list))):\n",
    "            return True \n",
    "        else: \n",
    "            return False\n",
    "\n",
    "    #########################################################   \n",
    "    def append (self, array_1, array_2=[]):\n",
    "        (rows1,columns1) = self.shape(array_1)\n",
    "        (rows2,columns2) = self.shape(array_2)\n",
    "        if ((not isinstance(array_1,list)) or (not isinstance(array_2,list))):\n",
    "            raise ValueError('Inputs not lists or arrays. Try again!')\n",
    "        else: \n",
    "            #Condition to check if either array_1 or array_2 is a list\n",
    "            if (((self.is_list(array_1)==True) and (self.is_matrix(array_2)==True)) or\n",
    "                ((self.is_matrix(array_1)==True) and (self.is_list(array_2)==True))): \n",
    "                raise ValueError('Incompatible shapes - cannot append vectors and matrices') \n",
    "            elif (columns1 == columns2):\n",
    "                pass\n",
    "            else: \n",
    "                raise ValueError('Incompatible shapes - cannot append') \n",
    "            \n",
    "            new_array = array_1 + array_2\n",
    "            return new_array\n",
    "        \n",
    "    #########################################################   \n",
    "    def get (self, array, coordinates):\n",
    "        row_entry = coordinates[0]\n",
    "        column_entry = coordinates[1]\n",
    "        (row,column) = self.shape(array)\n",
    "        \n",
    "        if  self.is_matrix(array) == True or self.is_list(array) == True:\n",
    "            if row_entry > row | row_entry <= 0:\n",
    "                raise ValueError('Row coordinate out of range. Try again!')\n",
    "            elif column_entry > column | column_entry <= 0:\n",
    "                raise ValueError('Column coordinate out of range. Try again!')\n",
    "            else:\n",
    "                pass\n",
    "        else:\n",
    "            raise ValueError('Inputs not lists or arrays. Try again!')         \n",
    "        \n",
    "        print(array[row_entry][column_entry])\n",
    "        \n",
    "    #########################################################   \n",
    "    def add (self, array_1, array_2):\n",
    "        (rows1,columns1) = self.shape(array_1)\n",
    "        (rows2,columns2) = self.shape(array_2)\n",
    "        \n",
    "        if  self.is_matrix(array) == True or self.is_list(array) == True:\n",
    "            pass\n",
    "        else:\n",
    "            raise ValueError('Inputs not lists or arrays. Try again!')         \n",
    "        \n",
    "        if (columns1 == columns2):\n",
    "            pass\n",
    "        else: \n",
    "            raise ValueError('Incompatible shapes - cannot add') \n",
    "        \n",
    "        new_array = [[array_1[i][x] + array_2[i][x]  for x in range (len(array_1[0]))] for i in range(len(array_1))]\n",
    "        return new_array\n",
    "    \n",
    "    #########################################################   \n",
    "    def subtract (self,  array_1, array_2):\n",
    "        (rows1,columns1) = self.shape(array_1)\n",
    "        (rows2,columns2) = self.shape(array_2)\n",
    "        \n",
    "        if  self.is_matrix(array) == True or self.is_list(array) == True:\n",
    "            pass\n",
    "        else:\n",
    "            raise ValueError('Inputs not lists or arrays. Try again!')         \n",
    "        \n",
    "        if (columns1 == columns2):\n",
    "            pass\n",
    "        else: \n",
    "            raise ValueError('Incompatible shapes - cannot append') \n",
    "            \n",
    "        new_array = [[array_1[i][x] - array_2[i][x]  for x in range (len(array_1[0]))] for i in range(len(array_1))]\n",
    "        return new_array\n",
    "    \n",
    "    #########################################################   \n",
    "    #Helper method to retreive column\n",
    "    def get_column (self, array, i): \n",
    "        return [row[i] for row in array]\n",
    "    \n",
    "    #########################################################\n",
    "    def dotproduct (self,  array_1, array_2):\n",
    "        (rows1,columns1) = snp.shape(array_1)\n",
    "        (rows2,columns2) = snp.shape(array_2)\n",
    "        \n",
    "        #Dotproduct for two vectors\n",
    "        if self.is_list(array_1) == True and self.is_list(array_2) == True:\n",
    "            #If vectors are not of equal length\n",
    "            if (len(array_1) != len(array_2)):\n",
    "                raise ValueError(\"Shapes array_1 and array_2 are not dimensionally aligned\")\n",
    "            else: \n",
    "                dotp = 0\n",
    "                for x,y in zip(array_1,array_2):\n",
    "                    dotp = dotp + x*y \n",
    "                return dotp\n",
    "        #Dotproduct for two matrices  \n",
    "        elif self.is_matrix(array_1) == True and self.is_matrix(array_2) == True:\n",
    "            if (columns1 != rows2):\n",
    "                raise ValueError(\"Shapes array_1 and array_2 are not dimensionally aligned\")\n",
    "            else:\n",
    "                ret_matrix = []\n",
    "                for i in range(rows1):\n",
    "                    row = [] \n",
    "                    for j in range(columns2): \n",
    "                        multrow = array_1[i]\n",
    "                        multcol = self.get_column(array_2,j)\n",
    "                        dotp = 0\n",
    "                        for x,y in zip(multrow,multcol):\n",
    "                            dotp = dotp + x*y\n",
    "                        row.append(dotp) \n",
    "                    ret_matrix.append(row)\n",
    "                return ret_matrix\n",
    "                        \n",
    "\n",
    "    #########################################################\n",
    "    #Optional - Gaussian elimination\n",
    "   # def Gauss_elim(self, x):\n",
    "\n",
    "     \n",
    "    #########################################################\n",
    "    #Print function for good looking format ------- Does not work\n",
    "    def print_matrix(self, matrix):\n",
    "        self.matrix = matrix\n",
    "        header = len(self.matrix)\n",
    "        output = ''\n",
    "        for i in range(header):\n",
    "            output += ('' + ' | '.join( map(lambda x:'{0:3.0f}'.format(x), self.matrix[i])) + ' \\n')\n",
    "        print(output)"
   ]
  },
  {
   "cell_type": "code",
   "execution_count": 2,
   "metadata": {},
   "outputs": [],
   "source": [
    "snp = Snumpy()"
   ]
  },
  {
   "cell_type": "markdown",
   "metadata": {},
   "source": [
    "## Test suite: Snumpy\n",
    "---"
   ]
  },
  {
   "cell_type": "markdown",
   "metadata": {},
   "source": [
    "### ones, zeros, shape"
   ]
  },
  {
   "cell_type": "code",
   "execution_count": 3,
   "metadata": {},
   "outputs": [
    {
     "data": {
      "text/plain": [
       "[1, 1, 1, 1, 1]"
      ]
     },
     "execution_count": 3,
     "metadata": {},
     "output_type": "execute_result"
    }
   ],
   "source": [
    "snp.Ones(5)"
   ]
  },
  {
   "cell_type": "code",
   "execution_count": 4,
   "metadata": {},
   "outputs": [
    {
     "data": {
      "text/plain": [
       "[0, 0, 0, 0]"
      ]
     },
     "execution_count": 4,
     "metadata": {},
     "output_type": "execute_result"
    }
   ],
   "source": [
    "snp.zeros(4)"
   ]
  },
  {
   "cell_type": "code",
   "execution_count": 5,
   "metadata": {},
   "outputs": [
    {
     "data": {
      "text/plain": [
       "[0, 1, 2, 3, 4, 5, 6, 7, 8, 9, 10, 11]"
      ]
     },
     "execution_count": 5,
     "metadata": {},
     "output_type": "execute_result"
    }
   ],
   "source": [
    "array = snp.arrange(12)\n",
    "array"
   ]
  },
  {
   "cell_type": "code",
   "execution_count": 6,
   "metadata": {},
   "outputs": [
    {
     "data": {
      "text/plain": [
       "(1, 12)"
      ]
     },
     "execution_count": 6,
     "metadata": {},
     "output_type": "execute_result"
    }
   ],
   "source": [
    "snp.shape(array)"
   ]
  },
  {
   "cell_type": "markdown",
   "metadata": {},
   "source": [
    "### list reshape, matrix reshape, multi-dimensional shape "
   ]
  },
  {
   "cell_type": "code",
   "execution_count": 7,
   "metadata": {},
   "outputs": [
    {
     "data": {
      "text/plain": [
       "[[0, 1, 2, 3], [4, 5, 6, 7], [8, 9, 10, 11]]"
      ]
     },
     "execution_count": 7,
     "metadata": {},
     "output_type": "execute_result"
    }
   ],
   "source": [
    "matrix_1 = snp.reshape(array, (3,4))\n",
    "matrix_1"
   ]
  },
  {
   "cell_type": "code",
   "execution_count": 8,
   "metadata": {},
   "outputs": [
    {
     "data": {
      "text/plain": [
       "[[0, 1], [2, 3], [4, 5], [6, 7], [8, 9], [10, 11]]"
      ]
     },
     "execution_count": 8,
     "metadata": {},
     "output_type": "execute_result"
    }
   ],
   "source": [
    "matrix_reshaped = snp.reshape(matrix_1,(6,2))\n",
    "matrix_reshaped"
   ]
  },
  {
   "cell_type": "code",
   "execution_count": 9,
   "metadata": {
    "scrolled": true
   },
   "outputs": [
    {
     "data": {
      "text/plain": [
       "(3, 4)"
      ]
     },
     "execution_count": 9,
     "metadata": {},
     "output_type": "execute_result"
    }
   ],
   "source": [
    "snp.shape(matrix_1)"
   ]
  },
  {
   "cell_type": "code",
   "execution_count": 10,
   "metadata": {},
   "outputs": [
    {
     "data": {
      "text/plain": [
       "(6, 2)"
      ]
     },
     "execution_count": 10,
     "metadata": {},
     "output_type": "execute_result"
    }
   ],
   "source": [
    "snp.shape(matrix_reshaped)"
   ]
  },
  {
   "cell_type": "markdown",
   "metadata": {},
   "source": [
    "### append, get, add, subtract"
   ]
  },
  {
   "cell_type": "code",
   "execution_count": 11,
   "metadata": {},
   "outputs": [
    {
     "name": "stdout",
     "output_type": "stream",
     "text": [
      "  0 |   1 |   2 |   3 \n",
      "  4 |   5 |   6 |   7 \n",
      "  8 |   9 |  10 |  11 \n",
      "  3 |   4 |   5 |   6 \n",
      "  7 |   8 |   9 |  10 \n",
      " 12 |  13 |  14 |  15 \n",
      "\n"
     ]
    }
   ],
   "source": [
    "matrix_2 = snp.reshape([3,4,5,6,7,8,9,10,12,13,14,15], (3,4))\n",
    "matrix_3 = snp.append(matrix_1, matrix_2)\n",
    "snp.print_matrix(matrix_3)"
   ]
  },
  {
   "cell_type": "code",
   "execution_count": 12,
   "metadata": {},
   "outputs": [
    {
     "name": "stdout",
     "output_type": "stream",
     "text": [
      "  0 |   1 |   2 |   3 \n",
      "  4 |   5 |   6 |   7 \n",
      "  8 |   9 |  10 |  11 \n",
      "  0 |   1 |   2 |   3 \n",
      "  4 |   5 |   6 |   7 \n",
      "  8 |   9 |  10 |  11 \n",
      "\n"
     ]
    }
   ],
   "source": [
    "matrix_2 = snp.reshape(matrix_reshaped, (3,4))\n",
    "matrix_3 = snp.append(matrix_1, matrix_2)\n",
    "snp.print_matrix(matrix_3)"
   ]
  },
  {
   "cell_type": "code",
   "execution_count": 13,
   "metadata": {},
   "outputs": [
    {
     "data": {
      "text/plain": [
       "(6, 4)"
      ]
     },
     "execution_count": 13,
     "metadata": {},
     "output_type": "execute_result"
    }
   ],
   "source": [
    "snp.shape(matrix_3)"
   ]
  },
  {
   "cell_type": "code",
   "execution_count": 14,
   "metadata": {},
   "outputs": [
    {
     "name": "stdout",
     "output_type": "stream",
     "text": [
      "3\n"
     ]
    }
   ],
   "source": [
    "snp.get(matrix_3, (3,3)) "
   ]
  },
  {
   "cell_type": "code",
   "execution_count": 15,
   "metadata": {},
   "outputs": [
    {
     "name": "stdout",
     "output_type": "stream",
     "text": [
      "  0 |   2 |   4 |   6 \n",
      "  8 |  10 |  12 |  14 \n",
      " 16 |  18 |  20 |  22 \n",
      "\n"
     ]
    }
   ],
   "source": [
    "matrix_4 = snp.add(matrix_1, matrix_2)\n",
    "snp.print_matrix(matrix_4)"
   ]
  },
  {
   "cell_type": "code",
   "execution_count": 16,
   "metadata": {},
   "outputs": [
    {
     "name": "stdout",
     "output_type": "stream",
     "text": [
      "  0 |   0 |   0 |   0 \n",
      "  0 |   0 |   0 |   0 \n",
      "  0 |   0 |   0 |   0 \n",
      "\n"
     ]
    }
   ],
   "source": [
    "matrix_5 = snp.subtract(matrix_1, matrix_2)\n",
    "snp.print_matrix(matrix_5)"
   ]
  },
  {
   "cell_type": "markdown",
   "metadata": {},
   "source": [
    "### dotproduct, Gaussian elimination"
   ]
  },
  {
   "cell_type": "code",
   "execution_count": 17,
   "metadata": {},
   "outputs": [
    {
     "data": {
      "text/plain": [
       "121"
      ]
     },
     "execution_count": 17,
     "metadata": {},
     "output_type": "execute_result"
    }
   ],
   "source": [
    "dotarray_1 = [1,4,6,6,3,5]\n",
    "dotarray_2 = [2,1,3,6,7,8]\n",
    "\n",
    "snp.dotproduct(dotarray_1,dotarray_2)\n"
   ]
  },
  {
   "cell_type": "code",
   "execution_count": 18,
   "metadata": {},
   "outputs": [
    {
     "data": {
      "text/plain": [
       "[[38, 39, 80, 56], [63, 99, 122, 105]]"
      ]
     },
     "execution_count": 18,
     "metadata": {},
     "output_type": "execute_result"
    }
   ],
   "source": [
    "A = [[2,3,6],\n",
    "     [5,-1,12]]\n",
    "B = [[1,0,4,7],\n",
    "     [2,-3,6,2],\n",
    "     [5,8,9,6]]\n",
    "\n",
    "snp.dotproduct(A,B)"
   ]
  },
  {
   "cell_type": "code",
   "execution_count": 19,
   "metadata": {},
   "outputs": [
    {
     "data": {
      "text/plain": [
       "[[7], [8], [1], [9], [2], [3], [4]]"
      ]
     },
     "execution_count": 19,
     "metadata": {},
     "output_type": "execute_result"
    }
   ],
   "source": [
    "Gx = [[1,1,0,1],\n",
    "     [1,0,1,1],\n",
    "     [1,0,0,0],\n",
    "     [0,1,1,1],\n",
    "     [0,1,0,0],\n",
    "     [0,0,1,0],\n",
    "     [0,0,0,1]]\n",
    "\n",
    "d = [[1],\n",
    "     [2],\n",
    "     [3],\n",
    "     [4]]\n",
    "\n",
    "snp.dotproduct(Gx,d)"
   ]
  },
  {
   "cell_type": "code",
   "execution_count": 20,
   "metadata": {},
   "outputs": [
    {
     "data": {
      "text/plain": [
       "array([2., 1.])"
      ]
     },
     "execution_count": 20,
     "metadata": {},
     "output_type": "execute_result"
    }
   ],
   "source": [
    "import numpy as np\n",
    "def Gauss_elim(a, b):\n",
    "    n = int(len(b)) #n is list size\n",
    "\n",
    "    # Gaussian Elimination ----- Create an upper triangle matrix  \n",
    "    for k in range(0,n-1): #k is matrix row\n",
    "            for i in range(k+1,n):\n",
    "                ratio = a[i, k]/a[k,k]\n",
    "                for j in range(k, n):\n",
    "                    a[i,j] -= ratio*a[k,j]\n",
    "                b[i] -= ratio*b[k]\n",
    "\n",
    "\n",
    "    #Back substitution\n",
    "    x = np.zeros(n)\n",
    "\n",
    "    x[n-1] = b[n-1]/a[n-1, n-1]\n",
    "    for i in range(n-2,-1,-1):\n",
    "        sum_j = 0\n",
    "        for j in range(i+1,n):\n",
    "            sum_j += a[i,j] * x[j]\n",
    "        x[i] = (b[i] - sum_j)/ a[i,i]\n",
    "\n",
    "    return x\n",
    "\n",
    "a = np.array([[1,1],\n",
    "     [3,-2]])\n",
    "b = np.array([3,4])\n",
    "\n",
    "Gauss_elim(a,b)"
   ]
  },
  {
   "cell_type": "markdown",
   "metadata": {},
   "source": [
    "# Question 2: Hamming Code\n",
    "\n",
    "---"
   ]
  },
  {
   "cell_type": "markdown",
   "metadata": {},
   "source": []
  },
  {
   "cell_type": "code",
   "execution_count": 21,
   "metadata": {},
   "outputs": [],
   "source": [
    "#Generator Matrix\n",
    "G = [[1,1,0,1],\n",
    "     [1,0,1,1],\n",
    "     [1,0,0,0],\n",
    "     [0,1,1,1],\n",
    "     [0,1,0,0],\n",
    "     [0,0,1,0],\n",
    "     [0,0,0,1]]\n",
    "\n",
    "#Parity-Check Matrix\n",
    "H = [[1,0,1,0,1,0,1],\n",
    "     [0,1,1,0,0,1,1],\n",
    "     [0,0,0,1,1,1,1]]\n",
    "\n",
    "#Decoder Matrix\n",
    "R = [[0,0,1,0,0,0,0],\n",
    "     [0,0,0,0,1,0,0],\n",
    "     [0,0,0,0,0,1,0],\n",
    "     [0,0,0,0,0,0,1]]"
   ]
  },
  {
   "cell_type": "code",
   "execution_count": 22,
   "metadata": {},
   "outputs": [],
   "source": [
    "class HammingCode ():\n",
    "\n",
    "    def binary_mult(self,  array_1, array_2):\n",
    "        (rows1,columns1) = snp.shape(array_1)\n",
    "        (rows2,columns2) = snp.shape(array_2)\n",
    "        #Dotproduct for two vectors\n",
    "        if (not isinstance(array_1[0], list) and (not isinstance(array_2[0], list))):\n",
    "            #If vectors are not of equal length\n",
    "            if (len(array_1) != len(array_2)):\n",
    "                raise ValueError(\"Shapes array_1 and array_2 are not dimensionally aligned\")\n",
    "            else: \n",
    "                dotp = 0\n",
    "                for x,y in zip(array_1,array_2):\n",
    "                    dotp = dotp + ((x*y)%2) \n",
    "                return (dotp%2)\n",
    "        #Dotproduct for two matrices  \n",
    "        elif (isinstance(array_1[0], list) and (isinstance(array_2[0], list))):\n",
    "            if (columns1 != rows2):\n",
    "                raise ValueError(\"Shapes array_1 and array_2 are not dimensionally aligned\")\n",
    "            else:\n",
    "                ret_matrix = []\n",
    "                for i in range(rows1):\n",
    "                    row = [] \n",
    "                    for j in range(columns2): \n",
    "                        multrow = array_1[i]\n",
    "                        multcol = snp.get_column(array_2,j)\n",
    "                        dotp = 0\n",
    "                        for x,y in zip(multrow,multcol):\n",
    "                            dotp = dotp + ((x*y)%2)\n",
    "                        row.append(dotp%2) \n",
    "                    ret_matrix.append(row)\n",
    "                return ret_matrix\n",
    "    \n",
    "    def encoder (self, value):\n",
    "        for i in str(value):\n",
    "            if ((i == '0') or (i == '1')): \n",
    "                pass\n",
    "            else:\n",
    "                raise ValueError ('Input must be binary number')\n",
    "        bin_digits = [int(x) for x in str(value)]\n",
    "        if ((len(bin_digits) == 4)): \n",
    "            pass\n",
    "        else: \n",
    "            raise ValueError ('Input must be a 4-digit binary value')\n",
    "        input_vect = []\n",
    "        #Producing a column vector\n",
    "        for i in range(len(bin_digits)):\n",
    "            row = []\n",
    "            row.append(bin_digits[i])\n",
    "            input_vect.append(row)\n",
    "        \n",
    "        vec_codeword = self.binary_mult(G,input_vect)\n",
    "        return vec_codeword\n",
    "    \n",
    "    def parity_check (self, code_word):\n",
    "        return self.binary_mult(H,code_word)\n",
    "    \n",
    "    def decoder (self, code_word):\n",
    "        return self.binary_mult(R,code_word)\n",
    "    \n",
    "    \n",
    "    "
   ]
  },
  {
   "cell_type": "markdown",
   "metadata": {},
   "source": [
    "## Test suite: Hamming Code\n",
    "---"
   ]
  },
  {
   "cell_type": "code",
   "execution_count": 23,
   "metadata": {},
   "outputs": [],
   "source": [
    "hc = HammingCode()"
   ]
  },
  {
   "cell_type": "markdown",
   "metadata": {},
   "source": [
    "### Test with no errors/alterations:"
   ]
  },
  {
   "cell_type": "code",
   "execution_count": 24,
   "metadata": {},
   "outputs": [
    {
     "data": {
      "text/plain": [
       "[[0], [0], [1], [1], [0], [0], [1]]"
      ]
     },
     "execution_count": 24,
     "metadata": {},
     "output_type": "execute_result"
    }
   ],
   "source": [
    "#A bit string is inputtet instead of an int value, as leading zeros are not allowed/complied in python\n",
    "a = '1001'\n",
    "\n",
    "#7-bit binary vector codeword in the form (r1,r2,r3,r4,r5,r6,r7)\n",
    "codew = hc.encoder(a)\n",
    "codew\n"
   ]
  },
  {
   "cell_type": "markdown",
   "metadata": {},
   "source": [
    "Parity check returns zero-vector, hence no errors, and reveicer can conclude that the original message d is (r3,r5,r6,r7) = (1,0,0,1) which is correct. \\\n",
    "==> See Report for in depth explanation"
   ]
  },
  {
   "cell_type": "code",
   "execution_count": 25,
   "metadata": {},
   "outputs": [
    {
     "data": {
      "text/plain": [
       "[[0], [0], [0]]"
      ]
     },
     "execution_count": 25,
     "metadata": {},
     "output_type": "execute_result"
    }
   ],
   "source": [
    "hc.parity_check(codew)\n"
   ]
  },
  {
   "cell_type": "markdown",
   "metadata": {},
   "source": [
    "Decoder returns the original 4-bit vector word:"
   ]
  },
  {
   "cell_type": "code",
   "execution_count": 26,
   "metadata": {},
   "outputs": [
    {
     "data": {
      "text/plain": [
       "[[1], [0], [0], [1]]"
      ]
     },
     "execution_count": 26,
     "metadata": {},
     "output_type": "execute_result"
    }
   ],
   "source": [
    "hc.decoder (codew)"
   ]
  },
  {
   "cell_type": "markdown",
   "metadata": {},
   "source": [
    "### Test with errors/alterations:"
   ]
  },
  {
   "cell_type": "code",
   "execution_count": 27,
   "metadata": {},
   "outputs": [
    {
     "data": {
      "text/plain": [
       "[[0], [0], [1], [1], [0], [0], [1]]"
      ]
     },
     "execution_count": 27,
     "metadata": {},
     "output_type": "execute_result"
    }
   ],
   "source": [
    "#A bit string is inputtet instead of an int value, as leading zeros are not allowed/complied in python\n",
    "a = '1001'\n",
    "\n",
    "#7-bit binary vector codeword in the form (r1,r2,r3,r4,r5,r6,r7)\n",
    "codew = hc.encoder(a)\n",
    "codew\n"
   ]
  },
  {
   "cell_type": "markdown",
   "metadata": {},
   "source": [
    "Here, an error occurs in the 5th bit, which the receiver does not know about. \\\n",
    "Parity check returns vector z = (1,0,1), meaning \n",
    "$\n",
    "j = 1 \\cdot 2^0 + 0 \\cdot 2^1 + 1 \\cdot 2^2 = 5\n",
    "$\n",
    "and reveicer can conclude that the original message d is \n",
    "$\n",
    "(r3,r5+1,r6,r7) = (1,1+1,0,1) = (1,0,0,1) \n",
    "$\n",
    "which is correct. \\\n",
    "==> See Report for in depth explanation"
   ]
  },
  {
   "cell_type": "code",
   "execution_count": 28,
   "metadata": {},
   "outputs": [
    {
     "data": {
      "text/plain": [
       "[[1], [0], [1]]"
      ]
     },
     "execution_count": 28,
     "metadata": {},
     "output_type": "execute_result"
    }
   ],
   "source": [
    "codew_error = [[0], [0], [1], [1], [1], [0], [1]]\n",
    "\n",
    "hc.parity_check(codew_error)"
   ]
  },
  {
   "cell_type": "markdown",
   "metadata": {},
   "source": [
    "# Question 3: Text Document Similarity\n",
    "\n",
    "---"
   ]
  },
  {
   "cell_type": "markdown",
   "metadata": {},
   "source": []
  },
  {
   "cell_type": "code",
   "execution_count": 122,
   "metadata": {},
   "outputs": [],
   "source": [
    "import re\n",
    "\n",
    "#Takes list of lists containing document strings from corpus. Returns dict of all unique words excluding special chars\n",
    "def word_list(text):\n",
    "    word_list = []\n",
    "    word_list = list(filter(None,[re.sub(r\"[^a-zA-Z0-9]\",\"\",x) for x in str(text).split()]))\n",
    "        \n",
    "    return word_list\n",
    "\n",
    "\n",
    "#def word_vector_array(corpus_data, text): \n",
    "def corpus_dictionary(corpus_data):\n",
    "    corpus_dict = {}\n",
    "    for text in corpus_data:\n",
    "        new_text = word_list(text)\n",
    "        for word in new_text:\n",
    "            corpus_dict[word] = 0\n",
    "            \n",
    "    return corpus_dict\n",
    "    \n",
    "def text_vector(dictionary, text):\n",
    "    new_text = word_list(text)\n",
    "    clone_dict = dict(dictionary)\n",
    "    for word in new_text:\n",
    "        if word in clone_dict:\n",
    "            clone_dict[word] = 1\n",
    "    \n",
    "    #print(list(clone_dict.values()))\n",
    "    return list(clone_dict.values())\n",
    "    \n",
    "#comparing words to word dict, output list of boolean \"is word in text\"\n",
    "def corpus_vector_array(dictionary, corpus):\n",
    "    corpus_vector_array = []\n",
    "    for text in corpus:\n",
    "        corpus_vector_array.append(text_vector(dictionary, text))\n",
    "    #print(corpus_vector_array)\n",
    "    return corpus_vector_array\n",
    "\n",
    "\n",
    "\n",
    "def text_comparison_dot_product(dictionary,corpus,text):\n",
    "    similarity_index = []\n",
    "    text_sim_ranks = []\n",
    "    #Cleaning text and forming array\n",
    "    comp_text_vector = text_vector(dictionary,text)\n",
    "    corpus_array = corpus_vector_array(dictionary,corpus)\n",
    "    \n",
    "    #creating list of dot-products between text and corpus\n",
    "    for column in corpus_array: \n",
    "        similarity_index.append(snp.dotproduct(column,comp_text_vector)) \n",
    "\n",
    "    #creating list of sorted dot-products, fetching index of top scorers based on dot product\n",
    "    similar_text_scores = sorted(list(dict.fromkeys(similarity_index)),reverse = True)\n",
    "    for sim in similar_text_scores:\n",
    "        indices = [i for i, x in enumerate(similarity_index) if x == sim]\n",
    "        text_sim_ranks.append(indices)\n",
    "    \n",
    "    #output\n",
    "    print(\"Index of top 3 similar text index by order are:\")\n",
    "    print(text_sim_ranks[0:3])\n",
    "    print(\"with scores:\")\n",
    "    print(similar_text_scores[0:3])\n",
    "    \n",
    "    return text_sim_ranks[0:3]\n",
    "        \n",
    "\n",
    "\n",
    "        \n"
   ]
  },
  {
   "cell_type": "code",
   "execution_count": 124,
   "metadata": {},
   "outputs": [
    {
     "name": "stdout",
     "output_type": "stream",
     "text": [
      "Test suite: Sample size = 400 \n",
      "\n",
      "Test 1: corpus_dict\n",
      "\n",
      "DICTIONARY:\n",
      " {'switchfoot': 0, 'httptwitpiccom2y1zl': 0, 'Awww': 0, 'thats': 0, 'a': 0, 'bummer': 0, 'You': 0, 'shoulda': 0, 'got': 0, 'David': 0, 'Carr': 0, 'of': 0, 'Third': 0, 'Day': 0, 'to': 0, 'do': 0, 'it': 0, 'D': 0, 'is': 0, 'upset': 0, 'that': 0, 'he': 0, 'cant': 0, 'update': 0, 'his': 0, 'Facebook': 0, 'by': 0, 'texting': 0, 'and': 0, 'might': 0, 'cry': 0, 'as': 0, 'result': 0, 'School': 0, 'today': 0, 'also': 0, 'Blah': 0, 'Kenichan': 0, 'I': 0, 'dived': 0, 'many': 0, 'times': 0, 'for': 0, 'the': 0, 'ball': 0, 'Managed': 0, 'save': 0, '50': 0, 'The': 0, 'rest': 0, 'go': 0, 'out': 0, 'bounds': 0, 'my': 0, 'whole': 0, 'body': 0, 'feels': 0, 'itchy': 0, 'like': 0, 'its': 0, 'on': 0, 'fire': 0, 'nationwideclass': 0, 'no': 0, 'not': 0, 'behaving': 0, 'at': 0, 'all': 0, 'im': 0, 'mad': 0, 'why': 0, 'am': 0, 'i': 0, 'here': 0, 'because': 0, 'see': 0, 'you': 0, 'over': 0, 'there': 0, 'Kwesidei': 0, 'crew': 0, 'Need': 0, 'hug': 0, 'LOLTrish': 0, 'hey': 0, 'long': 0, 'time': 0, 'Yes': 0, 'Rains': 0, 'bit': 0, 'only': 0, 'LOL': 0, 'Im': 0, 'fine': 0, 'thanks': 0, 'hows': 0, 'TatianaK': 0, 'nope': 0, 'they': 0, 'didnt': 0, 'have': 0, 'twittera': 0, 'que': 0, 'me': 0, 'muera': 0, 'spring': 0, 'break': 0, 'in': 0, 'plain': 0, 'city': 0, 'snowing': 0, 'just': 0, 'repierced': 0, 'ears': 0, 'caregiving': 0, 'couldnt': 0, 'bear': 0, 'watch': 0, 'And': 0, 'thought': 0, 'UA': 0, 'loss': 0, 'was': 0, 'embarrassing': 0, 'octolinz16': 0, 'It': 0, 'counts': 0, 'idk': 0, 'did': 0, 'either': 0, 'never': 0, 'talk': 0, 'anymore': 0, 'smarrison': 0, 'wouldve': 0, 'been': 0, 'first': 0, 'but': 0, 'gun': 0, 'really': 0, 'though': 0, 'zac': 0, 'snyders': 0, 'doucheclown': 0, 'iamjazzyfizzle': 0, 'wish': 0, 'with': 0, 'miss': 0, 'iamlilnicki': 0, 'how': 0, 'premiere': 0, 'Hollis': 0, 'death': 0, 'scene': 0, 'will': 0, 'hurt': 0, 'severely': 0, 'film': 0, 'wry': 0, 'directors': 0, 'cut': 0, 'now': 0, 'about': 0, 'file': 0, 'taxes': 0, 'LettyA': 0, 'ahh': 0, 'ive': 0, 'always': 0, 'wanted': 0, 'rent': 0, 'love': 0, 'soundtrack': 0, 'FakerPattyPattz': 0, 'Oh': 0, 'dear': 0, 'Were': 0, 'drinking': 0, 'forgotten': 0, 'table': 0, 'drinks': 0, 'alydesigns': 0, 'most': 0, 'day': 0, 'so': 0, 'get': 0, 'much': 0, 'done': 0, 'one': 0, 'friend': 0, 'called': 0, 'asked': 0, 'meet': 0, 'her': 0, 'Mid': 0, 'Valley': 0, 'todaybut': 0, 'sigh': 0, 'angrybarista': 0, 'baked': 0, 'cake': 0, 'ated': 0, 'this': 0, 'week': 0, 'going': 0, 'had': 0, 'hoped': 0, 'blagh': 0, 'class': 0, '8': 0, 'tomorrow': 0, 'hate': 0, 'when': 0, 'call': 0, 'wake': 0, 'people': 0, 'up': 0, 'Just': 0, 'myself': 0, 'sleep': 0, 'after': 0, 'watching': 0, 'Marley': 0, 'Me': 0, 'sad': 0, 'MissLilly': 0, 'ooooh': 0, 'leslie': 0, 'ok': 0, 'wont': 0, 'again': 0, 'Meh': 0, 'Almost': 0, 'Lover': 0, 'exception': 0, 'track': 0, 'gets': 0, 'depressed': 0, 'every': 0, 'some1': 0, 'hacked': 0, 'account': 0, 'aim': 0, 'make': 0, 'new': 0, 'alielayus': 0, 'want': 0, 'promote': 0, 'GEAR': 0, 'AND': 0, 'GROOVE': 0, 'unfornately': 0, 'ride': 0, 'may': 0, 'b': 0, 'Anaheim': 0, 'May': 0, 'sleeping': 0, 'an': 0, 'option': 0, 'realizing': 0, 'evaluations': 0, 'morning': 0, 'work': 0, 'afternoon': 0, 'julieebaby': 0, 'awe': 0, 'too': 0, '1': 0, 'HumpNinja': 0, 'asian': 0, 'eyes': 0, 'night': 0, 'sick': 0, 'spent': 0, 'hour': 0, 'sitting': 0, 'shower': 0, 'cause': 0, 'stand': 0, 'held': 0, 'back': 0, 'puke': 0, 'champ': 0, 'BED': 0, 'cocomix04': 0, 'ill': 0, 'tell': 0, 'ya': 0, 'story': 0, 'later': 0, 'good': 0, 'be': 0, 'workin': 0, 'three': 0, 'more': 0, 'hours': 0, 'MissXu': 0, 'sorry': 0, 'bed': 0, 'came': 0, 'GMT1': 0, 'httpisgdfNge': 0, 'fleurylis': 0, 'dont': 0, 'Its': 0, 'depressing': 0, 'think': 0, 'even': 0, 'know': 0, 'kids': 0, 'suitcases': 0, 'Bed': 0, 'Class': 0, '812': 0, 'Work': 0, '123': 0, 'Gym': 0, '35': 0, 'or': 0, '6': 0, 'Then': 0, '610': 0, 'Another': 0, 'gonna': 0, 'fly': 0, 'girlfriend': 0, 'feel': 0, 'getting': 0, 'study': 0, 'tomorrows': 0, 'practical': 0, 'exam': 0, 'Hes': 0, 'reason': 0, 'teardrops': 0, 'guitar': 0, 'who': 0, 'has': 0, 'enough': 0, 'heart': 0, 'Sad': 0, 'feeling': 0, 'wanna': 0, 'still': 0, 'JonathanRKnight': 0, 'soo': 0, 'finally': 0, 'comfortable': 0, 'missed': 0, 'Falling': 0, 'asleep': 0, 'heard': 0, 'Tracy': 0, 'girls': 0, 'being': 0, 'found': 0, 'How': 0, 'My': 0, 'breaks': 0, 'family': 0, 'Viennah': 0, 'Yay': 0, 'happy': 0, 'your': 0, 'job': 0, 'But': 0, 'means': 0, 'less': 0, 'checked': 0, 'user': 0, 'timeline': 0, 'blackberry': 0, 'looks': 0, 'twanking': 0, 'happening': 0, 'Are': 0, 'ppl': 0, 'having': 0, 'probs': 0, 'w': 0, 'BGs': 0, 'UIDs': 0, 'manwas': 0, 'ironing': 0, 'jeancjumbes': 0, 'fave': 0, 'top': 0, 'wear': 0, 'meeting': 0, 'Burnt': 0, 'strangely': 0, 'LiLo': 0, 'SamRo': 0, 'breaking': 0, 'tea': 0, 'oh': 0, 'before': 0, 'retweeting': 0, 'Broadband': 0, 'plan': 0, 'massive': 0, 'broken': 0, 'promise': 0, 'httptinyurlcomdcuc33': 0, 'via': 0, 'wwwdiigocomtautao': 0, 'Still': 0, 'waiting': 0, 'broadband': 0, 'we': 0, 'are': 0, 'localtweeps': 0, 'Wow': 0, 'tons': 0, 'replies': 0, 'from': 0, 'unfollow': 0, 'can': 0, 'friends': 0, 'tweets': 0, 'youre': 0, 'scrolling': 0, 'feed': 0, 'lot': 0, 'our': 0, 'duck': 0, 'chicken': 0, 'taking': 0, 'wayyy': 0, 'hatch': 0, 'Put': 0, 'vacation': 0, 'photos': 0, 'online': 0, 'few': 0, 'yrs': 0, 'ago': 0, 'PC': 0, 'crashed': 0, 'forget': 0, 'name': 0, 'site': 0, 'need': 0, 'andywana': 0, 'Not': 0, 'sure': 0, 'what': 0, 'PoS': 0, 'As': 0, 'trade': 0, 'away': 0, 'company': 0, 'assets': 0, 'andy': 0, 'oanhLove': 0, 'happens': 0, 'Dallas': 0, 'show': 0, 'gotta': 0, 'say': 0, 'youd': 0, 'shows': 0, 'would': 0, 'use': 0, 'music': 0, 'game': 0, 'mmm': 0, 'Ugh92': 0, 'degrees': 0, 'Where': 0, 'u': 0, 'move': 0, 'were': 0, 'already': 0, 'sd': 0, 'Hmmm': 0, 'Random': 0, 'Glad': 0, 'hear': 0, 'yer': 0, 'doing': 0, 'well': 0, 'BatManYNG': 0, 'ps3': 0, 'commission': 0, 'Wutcha': 0, 'playing': 0, 'Have': 0, 'copped': 0, 'Blood': 0, 'On': 0, 'Sand': 0, 'leaving': 0, 'parking': 0, 'Life': 0, 'cool': 0, 'Sadly': 0, 'Ive': 0, 'gotten': 0, 'experience': 0, 'post': 0, 'coitus': 0, 'cigarette': 0, 'such': 0, 'nice': 0, 'Too': 0, 'bad': 0, 'rain': 0, 'comes': 0, '5am': 0, 'Starrbby': 0, 'around': 0, 'lost': 0, 'pay': 0, 'phone': 0, 'bill': 0, 'lmao': 0, 'aw': 0, 'shucks': 0, 'Damm': 0, 'school': 0, 'Mo': 0, 'jobs': 0, 'money': 0, 'hell': 0, 'min': 0, 'wage': 0, '4': 0, 'fn': 0, 'clams': 0, 'katortiz': 0, 'forever': 0, 'See': 0, 'soon': 0, 'LtAlgonquin': 0, 'agreed': 0, 'saw': 0, 'failwhale': 0, 'allllll': 0, 'jdarter': 0, 'Haha': 0, 'dude': 0, 'look': 0, 'em': 0, 'unless': 0, 'someone': 0, 'says': 0, 'HEY': 0, 'ADDED': 0, 'YOU': 0, 'Sorry': 0, 'terrible': 0, 'pop': 0, 'ninjen': 0, 'right': 0, 'start': 0, 'working': 0, 'Nikster': 0, 'Or': 0, 'Jared': 0, 'least': 0, 'diss': 0, 'bands': 0, 'Trace': 0, 'clearly': 0, 'NOT': 0, 'ugly': 0, 'attire': 0, 'Puma': 0, 'singlet': 0, 'Adidas': 0, 'shortsand': 0, 'black': 0, 'business': 0, 'socks': 0, 'leather': 0, 'shoes': 0, 'Lucky': 0, 'run': 0, 'into': 0, 'any': 0, 'cute': 0, 'Why': 0, 'location': 0, 'httptwitpiccom2y2es': 0, 'No': 0, 'picnic': 0, 'smells': 0, 'citrus': 0, 'ashleyac': 0, 'donkey': 0, 'sensitive': 0, 'comments': 0, 'Nevertheless': 0, 'hed': 0, 'med': 0, 'glad': 0, 'mug': 0, 'asap': 0, 'Charger': 0, 'awol': 0, 'csi': 0, 'tonight': 0, 'FML': 0, 'arms': 0, 'sore': 0, 'tennis': 0, 'wonders': 0, 'unhappy': 0, 'split': 0, 'seccond': 0, 'saying': 0, 'bye': 0, 'statravelAU': 0, 'ur': 0, 'newsletter': 0, 'those': 0, 'fares': 0, 'unbelievable': 0, 'shame': 0, 'booked': 0, 'paid': 0, 'mine': 0, 'missin': 0, 'boo': 0, 'markhardy1974': 0, 'itm': 0, 'Damn': 0, 'chalk': 0, 'MY': 0, 'CHALKBOARD': 0, 'IS': 0, 'USELESS': 0, 'blast': 0, 'Getty': 0, 'Villa': 0, 'hates': 0, 'shes': 0, 'throat': 0, 'worse': 0, 'msdrama': 0, 'sup': 0, 'mama': 0, 'tummy': 0, 'hurts': 0, 'wonder': 0, 'if': 0, 'hypnosis': 0, 'anything': 0, 'If': 0, 'STOP': 0, 'SMOKING': 0, 'fat': 0, 'ones': 0, 'januarycrimson': 0, 'babe': 0, 'fam': 0, 'annoys': 0, 'Thankfully': 0, 'theyre': 0, 'Muahaha': 0, 'evil': 0, 'laugh': 0, 'Hollywoodheat': 0, 'should': 0, 'attention': 0, 'covered': 0, 'photoshop': 0, 'webpage': 0, 'design': 0, 'undergrad': 0, 'wednesday': 0, 'bday': 0, '2': 0, 'Poor': 0, 'cameron': 0, 'hills': 0, 'pray': 0, 'please': 0, 'ex': 0, 'threatening': 0, 'sh': 0, 'myour': 0, 'babies': 0, '1st': 0, 'Birthday': 0, 'party': 0, 'jerk': 0, 'headache': 0, 'makeherfamous': 0, 'hmm': 0, 'enjoy': 0, 'him': 0, 'problems': 0, 'constants': 0, 'things': 0, 'find': 0, 'ulike': 0, 'Strider': 0, 'little': 0, 'puppy': 0, 'httpappsfacebookcomdogbookprofileview5248435': 0, 'ryleegracewana': 0, 'steves': 0, 'SADLY': 0, 'SINCE': 0, 'ITS': 0, 'EASTER': 0, 'WNT': 0, 'B': 0, 'ABLE': 0, 'DO': 0, 'MUCH': 0, 'BUT': 0, 'OHH': 0, 'WELL': 0, 'actually': 0, 'won': 0, 'bracket': 0, 'pools': 0, 'wasnt': 0, 'stark': 0, 'follow': 0, 'A': 0, 'nite': 0, 'favorite': 0, 'teams': 0, 'Astros': 0, 'Spartans': 0, 'lose': 0, 'TW': 0, 'Body': 0, 'Of': 0, 'Missing': 0, 'Northern': 0, 'Calif': 0, 'Girl': 0, 'Found': 0, 'Police': 0, 'remains': 0, 'missing': 0, 'California': 0, 'girl': 0, 'httptrimimji': 0, 'mangaaa': 0, 'hope': 0, 'increase': 0, 'capacity': 0, 'fast': 0, 'yesterday': 0, 'pain': 0, 'Got': 0, 'fail': 0, 'whale': 0, '15': 0, 'Behind': 0, 'classes': 0, 'quotHousequot': 0, 'kpreyes': 0, 'Remember': 0, 'bum': 0, 'leg': 0, 'Strikes': 0, 'serious': 0, 'paradisej': 0, 'their': 0, 'kinds': 0, 'complaints': 0, 'laptop': 0, 'overheating': 0, 'recalls': 0, 'Emily': 0, 'Mommy': 0, 'training': 0, 'She': 0, 'misses': 0, 'httpappsfacebookcomdogbookprofileview6176014': 0, 'rather': 0, 'send': 0, 'messages': 0, 'than': 0, '3rd': 0, 'mixed': 0, 'Sophmore': 0, 'year': 0, 'Henkuyinepu': 0, 'overrated': 0, 'marykatherineq': 0, 'wondered': 0, 'same': 0, 'thing': 0, 'Moscow': 0, 'behind': 0, 'laying': 0, 'voice': 0, 'sooo': 0, 'killed': 0, 'off': 0, 'Kutner': 0, 'House': 0, 'whyyyyyyyy': 0, 'jacobsummers': 0, 'them': 0, 'mea': 0, 'culpa': 0, 'Alliana07': 0, 'sense': 0, 'suicide': 0, 'refuse': 0, 'believe': 0, 'happened': 0, 'salancaster': 0, 'mercedesashley': 0, 'grind': 0, 'inspirational': 0, 'saddening': 0, 'Dont': 0, 'stop': 0, 'cuz': 0, 'Much': 0, 'HibaNick': 0, 'yeah': 0, 'wudnt': 0, 'chance': 0, 'ugh': 0, '130am': 0, 'Hanging': 0, 'Crooners': 0, 'Wanna': 0, 'sing': 0, 'Cant': 0, 'Sucks': 0, 'eRResC': 0, 'aaw': 0, 'BH': 0, 'quotmorningquot': 0, 'aww': 0, 'beach': 0, 'Is': 0, 'pissed': 0, 'theres': 0, 'ASBAs': 0, 'radio': 0, 'station': 0, 'n': 0, 'life': 0, 'flipped': 0, 'upside': 0, 'down': 0, 'head': 0, 'some': 0, 'Ramen': 0, 'sounds': 0, 'sides': 0, 'mention': 0, 'crying': 0, 'made': 0, 'Late': 0, 'snack': 0, 'glass': 0, 'OJ': 0, 'bc': 0, 'quotdown': 0, 'sicknessquot': 0, 'then': 0, 'sleepugh': 0, 'allyheman': 0, 'big': 0, 'fan': 0, 'camilla': 0, 'belle': 0, 'grum': 0, 'WAH': 0, 'clip': 0, 'must': 0, 'elstupido': 0, 'filters': 0, 'wait': 0, 'till': 0, 'puter': 0, 'Something': 0, 'else': 0, 'blame': 0, 'He': 0, 'broke': 0, 'This': 0, 'seems': 0, 'longer': 0, 'terms': 0, 'cold': 0, 'thecoolestout': 0, 'Ehhh': 0, 'Weathers': 0, 'take': 0, 'turn': 0, 'chelserlynn': 0, 'haha': 0, 'cooooold': 0, 'd': 0, 'incredible': 0, 'stuff': 0, 'Hoping': 0, 'rumbles': 0, 'Knights': 0, 'notice': 0, 'They': 0, 'told': 0, 'Id': 0, 'agency': 0, 'said': 0, 'almost': 0, 'bedtime': 0, 'alive': 0, 'Yawwwnn': 0, 'tired': 0, 'imma': 0, 'try': 0, 'hopefully': 0, 'headstart': 0, 'Aghsnow': 0, 'kenny': 0, 'powers': 0, 'BridgetsBeaches': 0, 'Thank': 0, 'letting': 0, 'direct': 0, 'message': 0, 'Bridget': 0, 'India': 0, '100th': 0, 'Test': 0, 'victory': 0, '10th': 0, 'consecutive': 0, 'win': 0, 'without': 0, 'guess': 0, 'sadly': 0, 'ozesteph1992': 0, 'Shame': 0, 'Stephan': 0, 'mrsaintnick': 0, 'leavin': 0, 'Was': 0, 'intending': 0, 'finish': 0, 'editing': 0, '536page': 0, 'novel': 0, 'manuscript': 0, 'probably': 0, 'happen': 0, '12': 0, 'pages': 0, 'left': 0, 'laid': 0, 'twista202': 0, 'havent': 0, 'read': 0, '9thamp10th': 0, 'Princess': 0, 'diaries': 0, 'Saving': 0, 'Francesca': 0, 'end': 0, 'Hmm': 0, 'easy': 0, 'books': 0, 'nokia': 0, '1110': 0, 'died': 0, 'mom': 0, 'breast': 0, 'cancer': 0, 'Like': 0, 'worried': 0, 'Going': 0, 'better': 0, 'rumblepurr': 0, 'lol': 0, 'understood': 0, 'daylight': 0, 'savings': 0, 'ended': 0, 'breakfast': 0, 'keep': 0, 'waking': 0, 'onemoreproject': 0, 'lame': 0, 'understand': 0, 'HEROES': 0, 'isnt': 0, 'season': 0, 'Living': 0, 'downtown': 0, 'fun': 0, 'jonathanchard': 0, 'calorie': 0, 'wise': 0, 'junk': 0, 'food': 0, 'free': 0, 'ate': 0, 'sour': 0, 'skittles': 0, 'ass': 0, 'cherry': 0, 'coke': 0, 'Man': 0, 'Hard': 0, 'hot': 0, 'studying': 0, 'sleeeep': 0, 'Getting': 0, 'eyebrows': 0, 'waxed': 0, 'More': 0, 'phantasy': 0, 'star': 0, 'MacHeist': 0, '30': 0, 'apps': 0, 'sweet': 0, 'Didnt': 0, 'Espresso': 0, 'serial': 0, 'although': 0, 'sent': 0, 'Picked': 0, 'Mich': 0, 'St': 0, 'pretty': 0, 'pick': 0, 'way': 0, 'untiltonight': 0, 'alone': 0, 'downstairsworking': 0, 'RyanSeacrest': 0, 'she': 0, 'anoop': 0, 'mean': 0, 'seriously': 0, 'kinda': 0, 'pinkserendipity': 0, 'yes': 0, 'sprint': 0, '4g': 0, 'baltimore': 0, 'chicago': 0, 'far': 0, 'stuck': 0, 'awake': 0, 'middle': 0, 'second': 0, 'row': 0, 'felt': 0, 'Thanks': 0, 'bursting': 0, 'bubble': 0, 'gosh': 0, 'hard': 0, 'marieclr': 0, 'naughtyhaughty': 0, 'page': 0, 'sooooo': 0, 'Until': 0, 'deleted': 0, 'history': 0, 'Crazy': 0, 'wind': 0, 'birding': 0, 'httpffim1XTTi': 0, 'currently': 0, 'Grrr': 0, 'ipods': 0, 'acting': 0, 'weird': 0, 'Jai': 0, 'ho': 0, 'thinking': 0, 'arent': 0, 'full': 0, 'songs': 0, 'ughh': 0, 'penndbad': 0, 'DVD': 0, 'cos': 0, 'heaps': 0, 'deal': 0, 'website': 0, 'machineplay': 0, 'through': 0, 'Again': 0, 'therapyfail': 0, 'ColinDeMar': 0, 'Far': 0, 'rail': 0, 'other': 0, 'tips': 0, 'swear': 0, 'losing': 0, 'gaining': 0, 'tweeps': 0, 'So': 0, 'wrenching': 0, 'Today': 0, 'realized': 0, 'hiding': 0, 'Staying': 0, 'househouse': 0, 'neighbors': 0, 'SO': 0, 'loudhaving': 0, 'dannyvegasbaby': 0, 'danny': 0, 'live': 0, 'chat': 0, 'car': 0, '3': 0, 'trip': 0, 'soooo': 0, 'Check': 0, 'httpwwwerikaobscurablogspotcom': 0, 'Borders': 0, 'closed': 0, '10': 0, 'Downloading': 0, 'NINs': 0, 'album': 0, 'quotthe': 0, 'slipquot': 0, 'come': 0, 'these': 0, 'days': 0, 'woke': 0, 'written': 0, 'email': 0, 'early': 0, 'University': 0, 'teach': 0, '830': 0, 'AM': 0, 'hill': 0, 'making': 0, 'channels': 0, 'yet': 0, 'boring': 0, 'lazy': 0, 'hobby': 0, 'supersport': 0, 'buddy': 0, 'NY': 0, '25th': 0, 'robluketic': 0, 'french': 0, 'south': 0, 'qtr': 0, 'snarl': 0, 'beautiful': 0, 'Opps': 0, 'remain': 0, 'problem': 0, 'activated': 0, 'Selfcontrol': 0, 'block': 0, 'meaning': 0, 'check': 0, 'QC': 0, 'Regularizing': 0, 'internal': 0, 'clock': 0, 'difficult': 0, 'fb': 0, 'HillyDoP': 0, 'oH': 0, 'NO': 0, 'spencer': 0, 'guy': 0, 'goodlaura': 0, 'What': 0, 'Reese': 0, 'dying': 0, 'TTSC': 0, 'finale': 0, 'next': 0, '24': 0, 'Madame': 0, 'President': 0, 'crazy': 0, 'woman': 0, 'limited': 0, 'letterstooHope': 0, 'guys': 0, 'fineI': 0, 'dogshes': 0, 'shit': 0, 'screwed': 0, 'wanttss': 0, 'tonite': 0, 'Job': 0, 'Interview': 0, 'Cardiff': 0, 'luck': 0, 'stustone': 0, 'Your': 0, 'whack': 0, 'Way': 0, 'wiggetywhack': 0, 'DjAlizay': 0, 'choose': 0, 'chose': 0, 'accept': 0, 'familys': 0, 'help': 0, 'dead': 0, 'eloquentembrace': 0, 'Youre': 0, 'kill': 0, 'seen': 0, 'DS9': 0, 'solid': 0, 'cheechbud': 0, 'hahaha': 0, '45': 0, 'hrs': 0, 'spartans': 0, 'mind': 0, 'protesting': 0, 'quotgetting': 0, 'upquot': 0, 'Had': 0, 'nightmares': 0, 'boot': 0, 'MySteezRadio': 0, 'goin': 0, 'since': 0, 'GO': 0, 'ANGELS': 0, 'mandayyy': 0, 'library': 0, 'doesnt': 0, 'nap': 0, 'interrupted': 0, 'Japanese': 0, 'rents': 0, 'Kind': 0, 'longs': 0, 'bus': 0, 'Ghost': 0, 'World': 0, 'Ugh': 0, 'GuruMN': 0, 'canada': 0, 'supposed': 0, 'snow': 0, 'Awwh': 0, 'babs': 0, 'underneith': 0, 'shop': 0, 'entrance': 0, 'quotYesterdays': 0, 'Musikquot': 0, 'O': 0, 'transformer': 0, 'movie': 0, 'feet': 0, 'macbook': 0, 'fell': 0, 'late': 0, '132am': 0, 'tipsy': 0, 'lonesome': 0, 'Thatsthats': 0, 'sweating': 0, 'forthcoming': 0, 'E3': 0, 'crash': 0, 'while': 0, 'Has': 0, 'somebody': 0, 'infinitydefines': 0, 'omgawd': 0, 'handle': 0, 'cat': 0, 'heat': 0, 'DonnieWahlberg': 0, 'auburn': 0, 'looking': 0, 'DavidHenrie': 0, 'mag': 0, 'fit': 0, 'pictures': 0, 'ever': 0, 'magazine': 0, 'tho': 0, 'breadandbadger': 0, 'Congrats': 0, 'totally': 0, 'forgot': 0, 'submit': 0, 'PaulaAbdul': 0, 'awww': 0, 'Good': 0, 'Paula': 0, 'Please': 0, 'amazing': 0, 'xxx': 0, 'imaginarypeach': 0, 'twitter': 0, 'using': 0, 'stupid': 0, 'Nokia': 0, 'Ughhh': 0, 'advance': 0, 'SHOOTING': 0, 'OUTSIDE': 0, 'HOUSE': 0, 'KIDDING': 0, 'SCARED': 0, 'Tuesdayll': 0, 'reflection': 0, 'lecture': 0, 'Stress': 0, 'reducing': 0, 'techniques': 0, 'That': 0, 'become': 0, 'very': 0, 'useful': 0, 'us': 0, 'accompaniers': 0, 'tragedy': 0, 'disaster': 0, 'news': 0, 'trying': 0, 'picture': 0, 'upload': 0, 'correclty': 0, 'Red': 0, 'Sox': 0, 'rained': 0, 'forward': 0, 'opening': 0, 'keys': 0, 'charlietm': 0, 'dunno': 0, 'labelsnotlove': 0, 'home': 0, 'town': 0, 'mammy': 0, 'depressd': 0, 'Pls': 0, 'explain': 0, 'y': 0, 'parent': 0, 'let': 0, '8yr': 0, 'old': 0, 'child': 0, 'walk': 0, 'Hello': 0, '2009': 0, 'ircmaxell': 0, 'antidepressants': 0, 'PaxilWellbutrin': 0, 'combo': 0, 'efficacy': 0, 'MyConnecticut': 0, 'Restaurant': 0, 'WoodNTap': 0, 'competitive': 0, 'eating': 0, 'tourney': 0, 'round': 0, 'We': 0, 'place': 0, '2nd': 0, 'bathroom': 0, 'lakin': 0, 'CaitlinOConnor': 0, 'tacos': 0, 'margarhitas': 0, 'telll': 0, 'gay': 0, 'hellolt3': 0, 'lonely': 0, '22': 0, 'female': 0, 'california': 0, 'betfair': 0, 'office': 0, 'celebrate': 0, 'Tar': 0, 'Heel': 0, 'weekend': 0, 'nothing': 0, 'kristencampisi': 0, 'officially': 0, 'monkeys': 0, 'twin': 0, 'write': 0, 'heartbroken': 0, 'missom': 0, 'Aww': 0, 'SarahReedSC': 0, 'treaty': 0, 'defined': 0, 'Brent': 0, 'praise': 0, 'band': 0, 'lead': 0, 'guitarist': 0, 'ltpoutgt': 0, 'jpfurry': 0, 'poor': 0, 'john': 0, 'play': 0, 'fruit': 0, 'microwave': 0, 'Seriously': 0, 'HAVE': 0, 'doctor': 0, 'Xxx': 0, 'BFF': 0, 'reminds': 0, 'lt3': 0, 'shout': 0, 'courts': 0, 'New': 0, 'video': 0, 'card': 0, 'DOA': 0, 'naked': 0, 'confused': 0, 'JK': 0, 'sort': 0, 'ofno': 0, 'iphone': 0, 'filling': 0, 'appraisal': 0, 'form': 0, 'occupied': 0, 'past': 0, 'change': 0, 'deserved': 0, 'wat': 0, 'gah': 0, 'ring': 0, 'nowhere': 0, 'burgaw': 0, 'Ooooooh': 0, 'sealclap': 0, 'download': 0, 'shitloads': 0, 'zip': 0, 'folders': 0, '4chan': 0, 'internet': 0, 'moneys': 0, 'FUCK': 0, 'YEAH': 0, 'ALICIA': 0, 'amp': 0, 'MIKEY': 0, 'nursing': 0, 'Nile': 0, 'baby': 0, 'fucked': 0, 'IC': 0, 'Brandizzzle08': 0, 'yoyoyo': 0, 'rude': 0, 'JUST': 0, 'reconnected': 0, 'jemcam': 0, 'uni': 0, 'netball': 0, 'netbal': 0, 'kissability': 0, '8th': 0, 'april': 0, '13th': 0, 'july': 0, 'dierks': 0, 'bentley': 0, 'comin': 0, 'columbus': 0, 'OH': 0, 'sidekick': 0, 'chriscantore': 0, 'congrats': 0, 'jealous': 0, 'XM': 0, 'gr8t': 0, 'face': 0, 'luvvvvv': 0, 'golden': 0, 'retriever': 0, 'sighhhh': 0, 'piece': 0, 'luggage': 0, 'fucking': 0, 'Aaaaand': 0, 'nausea': 0, 'ooh': 0, 'excited': 0, 'YOUTUBE': 0, 'reach': 0, 'Axis': 0, 'bank': 0, 'holiday': 0, 'Mahavir': 0, 'Jayanti': 0, 'contd': 0, 'mathewsmichael': 0, 'agree': 0, 'jobros': 0, 'often': 0, 'fishmouse': 0, 'hilarious': 0, 'linked': 0, 'LJ': 0, 'went': 0, 'link': 0, 'DiannePulham': 0, 'OOOOOOOO': 0, 'neither': 0, 'Havent': 0, 'tweeted': 0, 'nearly': 0, 'Posted': 0, 'goes': 0, 'Night': 0, 'bostongarden': 0, 'needs': 0, 'applications': 0, 'son': 0, 'Vincas': 0, 'stay': 0, 'tense': 0, 'Whinging': 0, 'clientampboss': 0, 'English': 0, 'Rewrote': 0, 'text': 0, 'unreadable': 0, 'v': 0, 'writerampreviewed': 0, 'correctly': 0, 'huntermoore': 0, 'punch': 0, 'ITSNEMESIS': 0, 'LoveMeagan': 0, 'apologize': 0, 'repeated': 0, 'Video': 0, 'Games': 0, 'Live': 0, 'related': 0, 'stern': 0, 'discussion': 0, 'Koodo': 0, 'Stern': 0, 'zaydia': 0, 'figure': 0, 'hotel': 0, 'etc': 0, 'seniority': 0, 'technological': 0, 'ineptness': 0, 'quotregisterquot': 0, 'AGAIN': 0, 'slept': 0, 'bouts': 0, 'gallbladder': 0, 'At': 0, 'pills': 0, 'ThaStevieG': 0, 'bass': 0, 'Mad': 0, 'Callin': 0, 'nighty': 0, 'twittas': 0, 'LevenRambin': 0, 'Take': 0, 'afraid': 0, 'code': 0, 'Think': 0, 'Goodniight': 0, 'riancurtis': 0, 'kariajay': 0, 'All': 0, 'gonejust': 0, 'needed': 0, 'DB2': 0, 'aaronrva': 0, 'pee': 0, 'ashleyskyy': 0, 'margarita': 0, 'KourtneyKardash': 0, 'yup': 0, 'workouts': 0, 'r': 0, 'worst': 0, 'unfortunetly': 0, 'schedule': 0, 'allows': 0, 'tough': 0, 'Hillsong': 0, 'where': 0, 'list': 0, '0g': 0, 'milky': 0, 'bar': 0, '200ml': 0, 'jokerrrr': 0, 'stillllll': 0, 'hasnt': 0, 'arrived': 0, 'Mraow': 0, 'dancing': 0, 'art': 0, 'wants': 0, 'rape': 0, 'karenucol': 0, 'ah': 0, 'bet': 0, 'does': 0, 'craving': 0, 'softball': 0, 'basketball': 0, 'noo': 0, 'terrified': 0, 'accidentally': 0, 'reference': 0, 'management': 0, 'assignment': 0, 'hopes': 0, 'trouble': 0, 'amazon': 0, 's3': 0, 'plugin': 0, 'worked': 0, 'PHP': 0, '5': 0, 'hosting': 0, 'provider': 0, '44': 0, 'Argh': 0, 'suuuper': 0, 'sleepy': 0, 'wide': 0, 'Hope': 0, 'austinhill': 0, 'Sold': 0, 'watched': 0, 'tropic': 0, 'thunder': 0, 'Dreading': 0, 'qweendassah': 0, 'nohes': 0, 'missn': 0, 'ChiefDelphi': 0, 'httptwitpiccom2y2wr': 0, 'according': 0, 'bro': 0, 'poo': 0, 'fight': 0, 'poop': 0, 'stolen': 0, 'boss': 0, 'Su': 0, 'yin': 0, 'Huen': 0, 'unbearable': 0, 'guilt': 0, 'staff': 0, 'httptinyurlcomcw2l9t': 0, 'Joshy': 0, 'damn': 0, 'tejanos': 0, 'thoughts': 0, 'Sandra': 0, 'Cantus': 0, 'FranzGlaus': 0, 'everybody': 0, 'Michigan': 0, 'Shameful': 0, 'fill': 0, 'two': 0, 'alicayaba': 0, 'cuuute': 0, 'na': 0, 'seeing': 0, 'everyday': 0, 'Did': 0, 'quotGooooood': 0, 'Moooorniiiiiiingquot': 0, 'Germany': 0, 'cageor': 0, 'bettermy': 0, 'closing': 0, 'string': 0, 'cheese': 0, 'idea': 0, 'Cantu': 0, 'suitcase': 0, 'children': 0, 'stories': 0, 'seem': 0, 'wishing': 0, 'underneath': 0, 'covers': 0, 'walking': 0, 'drains': 0, 'energy': 0, 'ridley1013': 0, 'shapeshifting': 0, 'copout': 0, 'Angelas': 0, 'ep': 0, 'Noah': 0, 'awesome': 0, 'SaveTheStrib': 0, 'Dang': 0, 'knew': 0, 'earlier': 0, 'Any': 0, 'outings': 0, 'planned': 0, 'writing': 0, 'paper': 0, 'course': 0, 'access': 0, 'Halo': 0, 'Mythic': 0, 'Map': 0, 'Pack': 0, 'redownload': 0, 'Legendary': 0, '600MS': 0, 'vene2ia': 0, 'unfortunately': 0, 'another': 0, 'weeks': 0, 'busy': 0, 'latest': 0, 'project': 0, 'Ha': 0, 'suns': 0, 'gone': 0, 'harder': 0, 'lets': 0, 'man': 0, 'crush': 0, 'Jake': 0, 'Peavy': 0, 'gayforpeavy': 0, 'trishzw': 0, 'megafast': 0, 'during': 0, 'tomweds': 0, 'Want': 0, 'Tried': 0, 'warn': 0, 'tech': 0, 'michigan': 0, 'state': 0, 'omg': 0, 'mouth': 0, 'untill': 0, 'braces': 0, 'annoyed': 0, 'easily': 0, 'gtgtgt': 0, 'biofuel': 0, 'proposal': 0, 'biof': 0, 'httptinyurlcomceprvs': 0, 'MizzChievouz': 0, 'Hey': 0, 'Girlyvue': 0, 'videos': 0, 'a5hleyf': 0, 'spending': 0, 'grandma': 0, 'leave': 0, 'herself': 0, 'State': 0, 'tromped': 0, 'jewbus': 0, 'Two': 0, 'years': 0, 'worth': 0, 'ALOT': 0, 'organize': 0, 'gtlt': 0, 'finishing': 0, 'possiblemy': 0, 'bones': 0, 'ache': 0, 'griffmiester': 0, 'exchanging': 0, 'hyperbets': 0, 'last': 0, 'miserable': 0, 'rcompo': 0, 'RACHEL': 0, 'hang': 0, 'outage': 0, 'neccessary': 0, 'wekend': 0, 'dumb': 0, 'folk': 0, 'F': 0, 'Sat': 0, 'until': 0, 'TheLeagueSF': 0, 'Fun': 0, 'Furious': 0, 'mantra': 0, 'Bay': 0, 'Breakers': 0, 'rambunctiousthe': 0, 'overreacted': 0, 'clamped': 0, 'amberbenson': 0, 'hubby': 0, 'thinks': 0, 'important': 0, 'spot': 0, 'red': 0, 'carpet': 0, 'Trek': 0, 'Movie': 0, 'Premiere': 0, 'Sod': 0, 'matter': 0, 'easier': 0, 'wah': 0, 'JeffreeStar': 0, 'Jeffree': 0, 'hair': 0, 'color': 0, 'PERMANENT': 0, 'dye': 0, 'fades': 0, 'within': 0, 'otakusecret': 0, 'reaction': 0, 'whoa': 0, 'coming': 0, 'medicine': 0, 'ohh': 0, 'suppose': 0, 'WTF': 0, 'Dangerm0use': 0, 'maybe': 0, 'couple': 0, 'hon': 0, 'productive': 0, 'dog': 0, 'worry': 0, 'maddyVA': 0, 'Learned': 0, 'words': 0, 'Wish': 0, 'XBLM': 0, 'downloads': 0, 'gamertag': 0, 'Hitokyri': 0, 'nonsense': 0, 'Testament': 0, '930': 0, 'ScoutBuck': 0, 'hay': 0, 'Troll': 0, 'ahhhh': 0, 'movies': 0, 'mirrors': 0, 'ugggggh': 0, 'stooopeeed': 0, 'rip': 0, 'httptwitpiccom2y2yi': 0, 'Buck': 0, 'homework': 0, 'taken': 0, 'unfair': 0, 'Scratch': 0, 'du': 0, 'heif': 0, 'half': 0, 'cookies': 0, 'tum': 0, 'shoog': 0, 'Poots': 0, 'cococourtney': 0, 'listening': 0, 'sweets': 0, 'chi': 0, 'visits': 0, 'plz': 0, 'Geez': 0, 'Meetings': 0, 'emails': 0, 'meetings': 0, '6pm': 0, 'Ah': 0, 'dark': 0, 'DANG': 0, 'ANOTHER': 0, 'SPRING': 0, 'BREAK': 0, 'HOW': 0, 'COOL': 0, 'THAT': 0, 'TOO': 0, 'BAD': 0, 'TO': 0, 'WORK': 0, 'ALL': 0, 'WEEK': 0, 'MORE': 0, 'MONEY': 0, 'FOR': 0, 'PHONE': 0, 'ttyl': 0, 'EVERBODY': 0, 'SaraKate': 0, 'reply': 0, 'ages': 0, 'CarVin1': 0, 'emotional': 0, 'men': 0, 'Omg': 0, 'Both': 0, 'nickcarter': 0, 'Nick': 0, 'Break': 0, 'Heart': 0, 'Jon': 0, 'net': 0, 'world': 0, 'youve': 0, 'created': 0, 'seconds': 0, 'nchokkan': 0, 'httpswwwmycomicshopcomsearchTID395031': 0, 'stock': 0, 'Poohpot': 0, 'poohpot': 0, 'Softbelly': 0, 'MTUB': 0, 'loud': 0, 'Time': 0, 'posterior': 0, 'articulation': 0, 'creaking': 0, 'running': 0, 'drool': 0, 'swimming': 0, 'nathan': 0, 'sucked': 0, 'die': 0, 'chris': 0, 'callum': 0, 'wahhh': 0, 'STOU': 0, 'info': 0, '22552': 0, 'open': 0, 'mail': 0, 'notices': 0, 'doc': 0, 'um': 0, 'ohsbrat30Im': 0, 'yucky': 0, 'quick': 0, 'scrappy': 0, 'seblefebvre': 0, 's': 0, 'song': 0, 'myspace': 0, 'messing': 0, 'Bad': 0, 'Dad': 0, 'started': 0, 'coach': 0, 'practising': 0, 'holistic': 0, 'weight': 0, 'duchessrebecca': 0, 'intervention': 0, 'HELP': 0, 'boyfriend': 0, 'rut': 0, 'complete': 0, 'idiot': 0, 'works': 0, 'Saw': 0, 'ad': 0, 'Craigslist': 0, 'casting': 0, 'host': 0, 'G4': 0, 'psyched': 0, 'hoax': 0, 'Pepperoni': 0, 'rolls': 0, 'LA': 0, 'Valentinos': 0, 'sausage': 0, 'pepperoni': 0, 'httptinyurlcomcec5ka': 0, 'soillodge': 0, 'Monday': 0, 'GG': 0, 'episode': 0, 'Rockos': 0, 'Modern': 0, 'RIP': 0, 'Sandraits': 0, 'something': 0, 'Keeping': 0, 'fingers': 0, 'crossed': 0, 'Wait': 0, 'eat': 0, 'skinny': 0, 'vegas': 0, 'hungry': 0, 'MargeInovera': 0, 'tried': 0, 'tweetdeck': 0, 'once': 0, 'hated': 0, 'passion': 0, 'benackerman': 0, 'BTW': 0, 'iPhone': 0, 'funny': 0, 'quickly': 0, 'freezing': 0, 'BS': 0, 'admitting': 0, 'sayin': 0, 'Sitting': 0, 'wondering': 0, 'quotEDquot': 0, 'strong': 0, 'hold': 0, 'bananaface': 0, 'IM': 0, 'SORRY': 0, 'GOT': 0, 'SICK': 0, 'NIGHT': 0, 'carolrainbow': 0, 'Internet': 0, 'drive': 0, 'Ox': 0, 'builders': 0, 'SteveBuscemi': 0, 'weather': 0, 'Canada': 0, 'twiggassssssss': 0, 'range': 0, 'danadearmond': 0, 'anyone': 0, 'reads': 0, 'Grandma': 0, 'Shes': 0}\n",
      "Test 2: vector array\n",
      "Test 3: Text comparison\n",
      "Index of top 3 similar text index by order are:\n",
      "[[35, 130, 273], [57, 93, 132, 306, 358], [4, 32, 160, 180, 219, 254, 287, 342, 360, 372, 397]]\n",
      "with scores:\n",
      "[12, 11, 10]\n"
     ]
    },
    {
     "data": {
      "text/plain": [
       "[[35, 130, 273],\n",
       " [57, 93, 132, 306, 358],\n",
       " [4, 32, 160, 180, 219, 254, 287, 342, 360, 372, 397]]"
      ]
     },
     "execution_count": 124,
     "metadata": {},
     "output_type": "execute_result"
    }
   ],
   "source": [
    "\"\"\"\n",
    "This is for forming test data, not part of tool\n",
    "\"\"\"\n",
    "import csv\n",
    "\n",
    "#Test data\n",
    "csv_path = r'C:\\Users\\markb\\CBSDataSci\\FDS Exam Repository\\FDS-Exam-Project\\trainingandtestdata\\Tweet Data.csv'\n",
    "with open(csv_path) as csvfile:\n",
    "    spamreader = csv.reader(csvfile)\n",
    "    sample = 400\n",
    "    \n",
    "    #forming data set from last column of csv file (customer for twitter data set)\n",
    "    count = 0\n",
    "    tweets_all = [] \n",
    "    for row in spamreader:\n",
    "        if count < sample:\n",
    "            tweets_all.append(row[len(row)-1])\n",
    "            count += 1\n",
    "        else:\n",
    "            break\n",
    "\n",
    "print(\"Test suite: Sample size =\", sample, \"\\n\")\n",
    "\n",
    "#print(\"Test 0 - Data set test. Expected output: list of strings\")\n",
    "#print(tweets_all)\n",
    "#print(\"\\n\")\n",
    "\n",
    "print(\"Test 1: corpus_dict\\n\")\n",
    "dictionary = corpus_dictionary(tweets_all)\n",
    "#print(\"DICTIONARY:\\n\", dictionary)\n",
    "\n",
    "print(\"Test 2: vector array\")\n",
    "#array = corpus_vector_array(dictionary,tweets_all)\n",
    "#print(snp.shape(array))\n",
    "#print(\"ARRAY:\\n\", array)\n",
    "\n",
    "#test text of 50 most popular words in dataset\n",
    "test_text = ['I to the and a my is i in for it you me Im of but that not was so at have this its with out dont now too on no all time just day get sad be are back My go like im they still about going up cant']\n",
    "print(\"Test 3: Text comparison\")\n",
    "text_comparison_dot_product(dictionary,tweets_all,test_text)\n",
    "\n",
    "\n"
   ]
  }
 ],
 "metadata": {
  "interpreter": {
   "hash": "aee8b7b246df8f9039afb4144a1f6fd8d2ca17a180786b69acc140d282b71a49"
  },
  "kernelspec": {
   "display_name": "Python 3",
   "language": "python",
   "name": "python3"
  },
  "language_info": {
   "codemirror_mode": {
    "name": "ipython",
    "version": 3
   },
   "file_extension": ".py",
   "mimetype": "text/x-python",
   "name": "python",
   "nbconvert_exporter": "python",
   "pygments_lexer": "ipython3",
   "version": "3.7.4"
  }
 },
 "nbformat": 4,
 "nbformat_minor": 2
}
